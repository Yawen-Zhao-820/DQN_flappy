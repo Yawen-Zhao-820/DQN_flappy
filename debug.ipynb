{
 "cells": [
  {
   "cell_type": "code",
   "execution_count": 15,
   "metadata": {},
   "outputs": [],
   "source": [
    "import tensorflow as tf\n",
    "from tensorflow import keras"
   ]
  },
  {
   "cell_type": "code",
   "execution_count": 16,
   "metadata": {},
   "outputs": [
    {
     "data": {
      "text/plain": [
       "<KerasTensor: shape=(None, 80, 80, 4) dtype=float32 (created by layer 'input_6')>"
      ]
     },
     "execution_count": 16,
     "metadata": {},
     "output_type": "execute_result"
    }
   ],
   "source": [
    "input_shape = (80, 80, 4)\n",
    "inputs = keras.layers.Input(input_shape)\n",
    "inputs"
   ]
  },
  {
   "cell_type": "code",
   "execution_count": 17,
   "metadata": {},
   "outputs": [],
   "source": [
    "from model import CNNBlock, MLPBlock, DQN"
   ]
  },
  {
   "cell_type": "code",
   "execution_count": 18,
   "metadata": {},
   "outputs": [
    {
     "data": {
      "text/plain": [
       "<KerasTensor: shape=(None, 20, 20, 32) dtype=float32 (created by layer 'conv2d_12')>"
      ]
     },
     "execution_count": 18,
     "metadata": {},
     "output_type": "execute_result"
    }
   ],
   "source": [
    "cnn_block = CNNBlock(padding='same')\n",
    "inputs = keras.layers.Input(shape=(80,80,4))\n",
    "x_conv1 = cnn_block.conv1(inputs)\n",
    "x_conv1"
   ]
  },
  {
   "cell_type": "code",
   "execution_count": 19,
   "metadata": {},
   "outputs": [
    {
     "data": {
      "text/plain": [
       "<KerasTensor: shape=(None, 10, 10, 32) dtype=float32 (created by layer 'max_pooling2d_12')>"
      ]
     },
     "execution_count": 19,
     "metadata": {},
     "output_type": "execute_result"
    }
   ],
   "source": [
    "x_maxpool1 = cnn_block.maxpool1(x_conv1)\n",
    "x_maxpool1"
   ]
  },
  {
   "cell_type": "code",
   "execution_count": 20,
   "metadata": {},
   "outputs": [
    {
     "data": {
      "text/plain": [
       "<KerasTensor: shape=(None, 5, 5, 64) dtype=float32 (created by layer 'conv2d_13')>"
      ]
     },
     "execution_count": 20,
     "metadata": {},
     "output_type": "execute_result"
    }
   ],
   "source": [
    "x_conv2 = cnn_block.conv2(x_maxpool1)\n",
    "x_conv2"
   ]
  },
  {
   "cell_type": "code",
   "execution_count": 21,
   "metadata": {},
   "outputs": [
    {
     "data": {
      "text/plain": [
       "<KerasTensor: shape=(None, 5, 5, 64) dtype=float32 (created by layer 'conv2d_14')>"
      ]
     },
     "execution_count": 21,
     "metadata": {},
     "output_type": "execute_result"
    }
   ],
   "source": [
    "x_conv3 = cnn_block.conv3(x_conv2)\n",
    "x_conv3"
   ]
  },
  {
   "cell_type": "code",
   "execution_count": 22,
   "metadata": {},
   "outputs": [
    {
     "data": {
      "text/plain": [
       "<KerasTensor: shape=(None, 2) dtype=float32 (created by layer 'mlp_block')>"
      ]
     },
     "execution_count": 22,
     "metadata": {},
     "output_type": "execute_result"
    }
   ],
   "source": [
    "mlp_block = MLPBlock()\n",
    "x_mlp = mlp_block(x_conv3)\n",
    "x_mlp"
   ]
  },
  {
   "cell_type": "code",
   "execution_count": 6,
   "metadata": {},
   "outputs": [],
   "source": [
    "optimizer = tf.optimizers.Adam\n",
    "loss_fn = tf.keras.losses.MeanSquaredError\n",
    "learning_rate = 0.001\n",
    "\n",
    "layers = keras.Sequential()\n",
    "layers.add(CNNBlock())\n",
    "layers.add(MLPBlock())\n",
    "layers.compile(optimizer=optimizer(learning_rate=learning_rate),\n",
    "               loss=loss_fn())"
   ]
  },
  {
   "cell_type": "code",
   "execution_count": 7,
   "metadata": {},
   "outputs": [],
   "source": [
    "import numpy as np"
   ]
  },
  {
   "cell_type": "code",
   "execution_count": 8,
   "metadata": {},
   "outputs": [
    {
     "data": {
      "text/plain": [
       "<tf.Tensor: shape=(1, 2), dtype=float32, numpy=array([[0.01399432, 0.08301523]], dtype=float32)>"
      ]
     },
     "execution_count": 8,
     "metadata": {},
     "output_type": "execute_result"
    }
   ],
   "source": [
    "nparray = np.ones(shape=(80, 80, 4))\n",
    "tftensor = tf.convert_to_tensor(nparray[None, :], dtype=tf.float32)\n",
    "output = layers(tftensor)\n",
    "output"
   ]
  },
  {
   "cell_type": "code",
   "execution_count": 9,
   "metadata": {},
   "outputs": [
    {
     "data": {
      "text/plain": [
       "1"
      ]
     },
     "execution_count": 9,
     "metadata": {},
     "output_type": "execute_result"
    }
   ],
   "source": [
    "action = np.argmax(output.numpy()[0], axis=0)\n",
    "action"
   ]
  },
  {
   "cell_type": "code",
   "execution_count": 10,
   "metadata": {},
   "outputs": [
    {
     "data": {
      "text/plain": [
       "<tf.Tensor: shape=(128, 2), dtype=float32, numpy=\n",
       "array([[ 0.01523719, -0.13569796],\n",
       "       [-0.07555529, -0.05862848],\n",
       "       [-0.08316247, -0.18791926],\n",
       "       [-0.01443708, -0.13372532],\n",
       "       [-0.16749619,  0.10279229],\n",
       "       [-0.17586109, -0.04526759],\n",
       "       [ 0.08472159,  0.20577912],\n",
       "       [-0.05181425, -0.18839629],\n",
       "       [-0.12569016, -0.29265094],\n",
       "       [-0.10964687, -0.16069165],\n",
       "       [-0.0908488 ,  0.11569434],\n",
       "       [ 0.1150196 , -0.23111098],\n",
       "       [-0.07088578, -0.02443665],\n",
       "       [ 0.06878222,  0.03014604],\n",
       "       [ 0.10169072, -0.1299534 ],\n",
       "       [ 0.07117836, -0.24407434],\n",
       "       [ 0.1360977 , -0.21770853],\n",
       "       [-0.02557518, -0.06842843],\n",
       "       [-0.14017436, -0.00423495],\n",
       "       [ 0.07761571, -0.08022447],\n",
       "       [ 0.11206621, -0.04884676],\n",
       "       [ 0.10684249, -0.20514256],\n",
       "       [ 0.06636943,  0.01582746],\n",
       "       [-0.05694761, -0.09902373],\n",
       "       [-0.06459805, -0.21052144],\n",
       "       [-0.19375464,  0.05235211],\n",
       "       [-0.11603114, -0.04398154],\n",
       "       [ 0.05072493, -0.1487937 ],\n",
       "       [-0.04757765,  0.06735845],\n",
       "       [-0.0584986 , -0.10312565],\n",
       "       [-0.03375882, -0.10254183],\n",
       "       [-0.13349673, -0.1613011 ],\n",
       "       [ 0.10639085, -0.14085302],\n",
       "       [-0.0806881 , -0.20639715],\n",
       "       [-0.06167801,  0.06700378],\n",
       "       [-0.01854852, -0.0777754 ],\n",
       "       [-0.01419755,  0.05624988],\n",
       "       [-0.00640335, -0.25490892],\n",
       "       [ 0.07965694, -0.08733965],\n",
       "       [-0.02612056,  0.00550845],\n",
       "       [-0.03062005,  0.07958873],\n",
       "       [-0.06226021, -0.12816547],\n",
       "       [-0.09429722, -0.17169802],\n",
       "       [-0.03739281, -0.08561091],\n",
       "       [-0.09008931,  0.0024537 ],\n",
       "       [ 0.04517032, -0.15056992],\n",
       "       [-0.21621934, -0.13846663],\n",
       "       [-0.04508793, -0.03218121],\n",
       "       [ 0.18674438, -0.26799646],\n",
       "       [-0.13239151, -0.0324346 ],\n",
       "       [-0.04319326,  0.12096274],\n",
       "       [ 0.04379771, -0.06506909],\n",
       "       [-0.08909275, -0.07494117],\n",
       "       [-0.11900214, -0.0961664 ],\n",
       "       [-0.0930381 , -0.00729863],\n",
       "       [-0.07170808, -0.10499744],\n",
       "       [-0.12716609, -0.1420532 ],\n",
       "       [-0.12089393, -0.19552559],\n",
       "       [ 0.03198752,  0.06872284],\n",
       "       [-0.36279   , -0.119993  ],\n",
       "       [-0.18895593, -0.12582055],\n",
       "       [-0.15046622, -0.07579201],\n",
       "       [-0.0796971 , -0.13301226],\n",
       "       [ 0.00774599, -0.01080574],\n",
       "       [-0.17403552, -0.0447979 ],\n",
       "       [-0.12657398, -0.09258316],\n",
       "       [-0.07058762, -0.11753796],\n",
       "       [-0.02730587, -0.13364476],\n",
       "       [-0.07297951, -0.10888428],\n",
       "       [-0.08231328, -0.13548441],\n",
       "       [-0.08009198,  0.13856047],\n",
       "       [-0.08395748, -0.05463854],\n",
       "       [-0.04096974, -0.2921744 ],\n",
       "       [-0.18584876, -0.19000266],\n",
       "       [-0.02466184, -0.21017498],\n",
       "       [-0.24741966,  0.05659478],\n",
       "       [-0.17203434, -0.19871034],\n",
       "       [ 0.04377943, -0.07881965],\n",
       "       [-0.17713529, -0.0030228 ],\n",
       "       [-0.08416495, -0.1408733 ],\n",
       "       [-0.19234326, -0.18905176],\n",
       "       [-0.03777325, -0.07448426],\n",
       "       [-0.02521372, -0.03413926],\n",
       "       [-0.17685655, -0.09167377],\n",
       "       [-0.06567575, -0.07834437],\n",
       "       [ 0.04228388, -0.11971192],\n",
       "       [ 0.03465819, -0.10973897],\n",
       "       [-0.13023902, -0.15510672],\n",
       "       [-0.05985421, -0.01412968],\n",
       "       [-0.05752133, -0.34025037],\n",
       "       [-0.04025774, -0.18120486],\n",
       "       [-0.24935669,  0.06915741],\n",
       "       [ 0.01692618, -0.15013465],\n",
       "       [-0.03613365, -0.08301402],\n",
       "       [-0.18189766, -0.07731951],\n",
       "       [ 0.15116641, -0.10388474],\n",
       "       [-0.12740427, -0.0948333 ],\n",
       "       [ 0.02605911, -0.05565666],\n",
       "       [-0.13580039,  0.05261839],\n",
       "       [-0.01762137,  0.11272641],\n",
       "       [ 0.01700347, -0.17352861],\n",
       "       [ 0.11795808, -0.07751232],\n",
       "       [-0.01887777, -0.12467017],\n",
       "       [-0.03068054, -0.07441448],\n",
       "       [-0.21205074,  0.21191058],\n",
       "       [ 0.04814819, -0.17905068],\n",
       "       [ 0.02925861, -0.08115733],\n",
       "       [-0.03125177,  0.03681923],\n",
       "       [-0.15231599, -0.09554208],\n",
       "       [-0.23927422, -0.11929185],\n",
       "       [-0.03729399, -0.07938359],\n",
       "       [ 0.05600281, -0.0880881 ],\n",
       "       [-0.05828073, -0.01050501],\n",
       "       [-0.0362286 , -0.10798614],\n",
       "       [-0.12958622, -0.06769321],\n",
       "       [-0.05104208,  0.00806307],\n",
       "       [-0.0487443 , -0.11003781],\n",
       "       [-0.01404082, -0.09946018],\n",
       "       [ 0.05150907, -0.00790493],\n",
       "       [-0.10419765, -0.07127804],\n",
       "       [-0.05066834, -0.1058322 ],\n",
       "       [-0.00662314, -0.21905105],\n",
       "       [-0.08060497, -0.25103045],\n",
       "       [ 0.00921516, -0.07867685],\n",
       "       [ 0.04924129, -0.21948957],\n",
       "       [ 0.08277833,  0.01458929],\n",
       "       [-0.16299167, -0.07267596],\n",
       "       [-0.08968124, -0.16318122]], dtype=float32)>"
      ]
     },
     "execution_count": 10,
     "metadata": {},
     "output_type": "execute_result"
    }
   ],
   "source": [
    "samples = np.random.normal(size=(128, 80, 80, 4))\n",
    "samples = tf.convert_to_tensor(samples, dtype=tf.float32)\n",
    "outputs = layers(samples)\n",
    "outputs"
   ]
  },
  {
   "cell_type": "code",
   "execution_count": 11,
   "metadata": {},
   "outputs": [
    {
     "data": {
      "text/plain": [
       "array([[1., 0.],\n",
       "       [0., 1.],\n",
       "       [1., 0.],\n",
       "       [1., 0.],\n",
       "       [0., 1.],\n",
       "       [0., 1.],\n",
       "       [0., 1.],\n",
       "       [1., 0.],\n",
       "       [1., 0.],\n",
       "       [1., 0.],\n",
       "       [0., 1.],\n",
       "       [1., 0.],\n",
       "       [0., 1.],\n",
       "       [1., 0.],\n",
       "       [1., 0.],\n",
       "       [1., 0.],\n",
       "       [1., 0.],\n",
       "       [1., 0.],\n",
       "       [0., 1.],\n",
       "       [1., 0.],\n",
       "       [1., 0.],\n",
       "       [1., 0.],\n",
       "       [1., 0.],\n",
       "       [1., 0.],\n",
       "       [1., 0.],\n",
       "       [0., 1.],\n",
       "       [0., 1.],\n",
       "       [1., 0.],\n",
       "       [0., 1.],\n",
       "       [1., 0.],\n",
       "       [1., 0.],\n",
       "       [1., 0.],\n",
       "       [1., 0.],\n",
       "       [1., 0.],\n",
       "       [0., 1.],\n",
       "       [1., 0.],\n",
       "       [0., 1.],\n",
       "       [1., 0.],\n",
       "       [1., 0.],\n",
       "       [0., 1.],\n",
       "       [0., 1.],\n",
       "       [1., 0.],\n",
       "       [1., 0.],\n",
       "       [1., 0.],\n",
       "       [0., 1.],\n",
       "       [1., 0.],\n",
       "       [0., 1.],\n",
       "       [0., 1.],\n",
       "       [1., 0.],\n",
       "       [0., 1.],\n",
       "       [0., 1.],\n",
       "       [1., 0.],\n",
       "       [0., 1.],\n",
       "       [0., 1.],\n",
       "       [0., 1.],\n",
       "       [1., 0.],\n",
       "       [1., 0.],\n",
       "       [1., 0.],\n",
       "       [0., 1.],\n",
       "       [0., 1.],\n",
       "       [0., 1.],\n",
       "       [0., 1.],\n",
       "       [1., 0.],\n",
       "       [1., 0.],\n",
       "       [0., 1.],\n",
       "       [0., 1.],\n",
       "       [1., 0.],\n",
       "       [1., 0.],\n",
       "       [1., 0.],\n",
       "       [1., 0.],\n",
       "       [0., 1.],\n",
       "       [0., 1.],\n",
       "       [1., 0.],\n",
       "       [1., 0.],\n",
       "       [1., 0.],\n",
       "       [0., 1.],\n",
       "       [1., 0.],\n",
       "       [1., 0.],\n",
       "       [0., 1.],\n",
       "       [1., 0.],\n",
       "       [0., 1.],\n",
       "       [1., 0.],\n",
       "       [1., 0.],\n",
       "       [0., 1.],\n",
       "       [1., 0.],\n",
       "       [1., 0.],\n",
       "       [1., 0.],\n",
       "       [1., 0.],\n",
       "       [0., 1.],\n",
       "       [1., 0.],\n",
       "       [1., 0.],\n",
       "       [0., 1.],\n",
       "       [1., 0.],\n",
       "       [1., 0.],\n",
       "       [0., 1.],\n",
       "       [1., 0.],\n",
       "       [0., 1.],\n",
       "       [1., 0.],\n",
       "       [0., 1.],\n",
       "       [0., 1.],\n",
       "       [1., 0.],\n",
       "       [1., 0.],\n",
       "       [1., 0.],\n",
       "       [1., 0.],\n",
       "       [0., 1.],\n",
       "       [1., 0.],\n",
       "       [1., 0.],\n",
       "       [0., 1.],\n",
       "       [0., 1.],\n",
       "       [0., 1.],\n",
       "       [1., 0.],\n",
       "       [1., 0.],\n",
       "       [0., 1.],\n",
       "       [1., 0.],\n",
       "       [0., 1.],\n",
       "       [0., 1.],\n",
       "       [1., 0.],\n",
       "       [1., 0.],\n",
       "       [1., 0.],\n",
       "       [0., 1.],\n",
       "       [1., 0.],\n",
       "       [1., 0.],\n",
       "       [1., 0.],\n",
       "       [1., 0.],\n",
       "       [1., 0.],\n",
       "       [1., 0.],\n",
       "       [0., 1.],\n",
       "       [1., 0.]], dtype=float32)"
      ]
     },
     "execution_count": 11,
     "metadata": {},
     "output_type": "execute_result"
    }
   ],
   "source": [
    "actions = np.zeros_like(outputs)\n",
    "actions[np.arange(actions.shape[0]), np.argmax(outputs, axis=1)] = 1\n",
    "actions\n"
   ]
  },
  {
   "cell_type": "code",
   "execution_count": 12,
   "metadata": {},
   "outputs": [
    {
     "data": {
      "text/plain": [
       "(80, 80, 1)"
      ]
     },
     "execution_count": 12,
     "metadata": {},
     "output_type": "execute_result"
    }
   ],
   "source": [
    "a = np.zeros((80, 80))\n",
    "np.expand_dims(a, axis=-1).shape"
   ]
  },
  {
   "cell_type": "code",
   "execution_count": 13,
   "metadata": {},
   "outputs": [],
   "source": [
    "import random"
   ]
  },
  {
   "cell_type": "code",
   "execution_count": 14,
   "metadata": {},
   "outputs": [
    {
     "data": {
      "text/plain": [
       "array([1, 0])"
      ]
     },
     "execution_count": 14,
     "metadata": {},
     "output_type": "execute_result"
    }
   ],
   "source": [
    "all_actions = [np.array([0, 1]), np.array([1, 0])]\n",
    "choice = random.choice(all_actions)\n",
    "choice\n"
   ]
  },
  {
   "cell_type": "code",
   "execution_count": 15,
   "metadata": {},
   "outputs": [],
   "source": [
    "from collections import deque"
   ]
  },
  {
   "cell_type": "code",
   "execution_count": 16,
   "metadata": {},
   "outputs": [
    {
     "name": "stdout",
     "output_type": "stream",
     "text": [
      "deque([10, 11, 12, 13, 14, 15, 16, 17, 18, 19], maxlen=10)\n"
     ]
    }
   ],
   "source": [
    "dq = deque(maxlen=10)\n",
    "for i in range(20):\n",
    "    dq.append(i)\n",
    "print(dq)"
   ]
  },
  {
   "cell_type": "code",
   "execution_count": 17,
   "metadata": {},
   "outputs": [],
   "source": [
    "import os"
   ]
  },
  {
   "cell_type": "code",
   "execution_count": 18,
   "metadata": {},
   "outputs": [
    {
     "name": "stdout",
     "output_type": "stream",
     "text": [
      "training_1\n"
     ]
    }
   ],
   "source": [
    "path_checkpoint = \"training_1/cp.ckpt\"\n",
    "print(os.path.dirname(path_checkpoint))"
   ]
  },
  {
   "cell_type": "code",
   "execution_count": 19,
   "metadata": {},
   "outputs": [
    {
     "name": "stdout",
     "output_type": "stream",
     "text": [
      "1\n",
      "tf.Tensor(2.0, shape=(), dtype=float32)\n"
     ]
    }
   ],
   "source": [
    "a = np.array(1)\n",
    "print(a) # 1\n",
    "max = tf.maximum(tf.cast(1, dtype=tf.float32), tf.cast(2, dtype=tf.float32))\n",
    "print(max) # ()"
   ]
  },
  {
   "cell_type": "code",
   "execution_count": 20,
   "metadata": {},
   "outputs": [],
   "source": [
    "action_samples = np.array([[0, 1],\n",
    "                           [1, 0], \n",
    "                           [0, 1], \n",
    "                           [1, 0], \n",
    "                           [1, 0]])"
   ]
  },
  {
   "cell_type": "code",
   "execution_count": 21,
   "metadata": {},
   "outputs": [
    {
     "data": {
      "text/plain": [
       "0"
      ]
     },
     "execution_count": 21,
     "metadata": {},
     "output_type": "execute_result"
    }
   ],
   "source": [
    "\n",
    "np.argmax(action_samples[1])"
   ]
  },
  {
   "cell_type": "code",
   "execution_count": 22,
   "metadata": {},
   "outputs": [],
   "source": [
    "q_target = np.random.normal(size=(32, 2))"
   ]
  },
  {
   "cell_type": "code",
   "execution_count": 23,
   "metadata": {},
   "outputs": [
    {
     "name": "stdout",
     "output_type": "stream",
     "text": [
      "0.32285670942897227\n",
      "[-0.29489507  0.32285671]\n"
     ]
    }
   ],
   "source": [
    "print(q_target[0][np.argmax([0, 1])])\n",
    "print(q_target[0][[0, 1]])"
   ]
  },
  {
   "cell_type": "code",
   "execution_count": 24,
   "metadata": {},
   "outputs": [
    {
     "data": {
      "text/plain": [
       "array([[ 1.        ,  1.        ],\n",
       "       [-0.86551256, -1.03837869],\n",
       "       [ 2.10839018,  0.2444458 ],\n",
       "       [-0.73294962,  1.82672399],\n",
       "       [ 0.55823877,  0.33659599],\n",
       "       [ 1.37722289, -2.15086112],\n",
       "       [-0.57151783, -0.12494877],\n",
       "       [-0.55767321, -0.38480572],\n",
       "       [ 0.3065331 ,  1.04543576],\n",
       "       [-0.13046008, -2.92437294],\n",
       "       [-0.50838919,  1.54502128],\n",
       "       [ 0.04229048, -0.76800025],\n",
       "       [-0.32318091,  0.28778455],\n",
       "       [-0.2020337 , -0.42049578],\n",
       "       [-1.50354077, -0.01762514],\n",
       "       [-0.11562003,  0.61341493],\n",
       "       [ 1.018556  ,  1.17389629],\n",
       "       [ 0.57250868, -0.25930633],\n",
       "       [ 1.158289  , -0.57246622],\n",
       "       [ 0.25055596,  1.02759259],\n",
       "       [ 0.88643104,  0.73369819],\n",
       "       [-1.06529218,  0.61260403],\n",
       "       [ 0.73809522, -0.11050408],\n",
       "       [-0.02174249, -0.47437929],\n",
       "       [ 0.036627  , -0.26103482],\n",
       "       [ 0.32694828,  1.41344059],\n",
       "       [-2.72428514, -0.12167045],\n",
       "       [-1.31191741, -1.01607194],\n",
       "       [-0.31609811, -0.07195932],\n",
       "       [ 1.26779129,  0.61911772],\n",
       "       [ 1.59257764,  0.02711994],\n",
       "       [ 0.4196541 , -1.32084181]])"
      ]
     },
     "execution_count": 24,
     "metadata": {},
     "output_type": "execute_result"
    }
   ],
   "source": [
    "q_target[0][[0, 1]] = 1\n",
    "q_target"
   ]
  },
  {
   "cell_type": "code",
   "execution_count": 25,
   "metadata": {},
   "outputs": [
    {
     "data": {
      "text/plain": [
       "array([0., 0.])"
      ]
     },
     "execution_count": 25,
     "metadata": {},
     "output_type": "execute_result"
    }
   ],
   "source": [
    "np.zeros([2])"
   ]
  },
  {
   "cell_type": "code",
   "execution_count": 53,
   "metadata": {},
   "outputs": [],
   "source": [
    "x = np.random.normal(size=(80, 80, 4))\n",
    "x_2 =  np.random.normal(size=(1, 80, 80, 4))"
   ]
  },
  {
   "cell_type": "code",
   "execution_count": 59,
   "metadata": {},
   "outputs": [
    {
     "data": {
      "text/plain": [
       "<tf.Tensor: shape=(1, 2), dtype=float32, numpy=array([[-0.10924925, -0.17382137]], dtype=float32)>"
      ]
     },
     "execution_count": 59,
     "metadata": {},
     "output_type": "execute_result"
    }
   ],
   "source": [
    "model = DQN()\n",
    "model.net(x)"
   ]
  },
  {
   "cell_type": "code",
   "execution_count": 55,
   "metadata": {},
   "outputs": [
    {
     "data": {
      "text/plain": [
       "<tf.Tensor: shape=(1, 2), dtype=float32, numpy=array([[-0.03543302, -0.22861898]], dtype=float32)>"
      ]
     },
     "execution_count": 55,
     "metadata": {},
     "output_type": "execute_result"
    }
   ],
   "source": [
    "model.net(x_2)"
   ]
  },
  {
   "cell_type": "code",
   "execution_count": 63,
   "metadata": {},
   "outputs": [
    {
     "data": {
      "text/plain": [
       "4.04029761188"
      ]
     },
     "execution_count": 63,
     "metadata": {},
     "output_type": "execute_result"
    }
   ],
   "source": [
    "x = np.random.normal(size=(1, 80, 80, 4))\n",
    "model.net(x)\n",
    "np.max(x)"
   ]
  },
  {
   "cell_type": "code",
   "execution_count": 65,
   "metadata": {},
   "outputs": [
    {
     "name": "stdout",
     "output_type": "stream",
     "text": [
      "1/1 [==============================] - 0s 76ms/step\n"
     ]
    },
    {
     "data": {
      "text/plain": [
       "array([[-0.09924804, -0.2676801 ]], dtype=float32)"
      ]
     },
     "execution_count": 65,
     "metadata": {},
     "output_type": "execute_result"
    }
   ],
   "source": [
    "model.net.predict(x)"
   ]
  },
  {
   "cell_type": "code",
   "execution_count": 66,
   "metadata": {},
   "outputs": [],
   "source": [
    "import argparse"
   ]
  },
  {
   "cell_type": "code",
   "execution_count": 72,
   "metadata": {},
   "outputs": [
    {
     "name": "stderr",
     "output_type": "stream",
     "text": [
      "usage: ipykernel_launcher.py [-h] -p PATH\n",
      "ipykernel_launcher.py: error: the following arguments are required: -p/--path\n"
     ]
    },
    {
     "ename": "SystemExit",
     "evalue": "2",
     "output_type": "error",
     "traceback": [
      "An exception has occurred, use %tb to see the full traceback.\n",
      "\u001b[0;31mSystemExit\u001b[0m\u001b[0;31m:\u001b[0m 2\n"
     ]
    }
   ],
   "source": [
    "parser = argparse.ArgumentParser(description='Ya - DQN')\n",
    "parser.add_argument(\n",
    "    '-p', '--path', help='The path of check point', required=True)\n",
    "args = parser.parse_args()"
   ]
  },
  {
   "cell_type": "code",
   "execution_count": 120,
   "metadata": {},
   "outputs": [
    {
     "data": {
      "text/plain": [
       "deque([11, 12, 13, 14, 15, 16, 17, 18, 19, 20])"
      ]
     },
     "execution_count": 120,
     "metadata": {},
     "output_type": "execute_result"
    }
   ],
   "source": [
    "D = deque(maxlen=10)\n",
    "for i in range(1, 21):\n",
    "    D.append(i)\n",
    "D"
   ]
  },
  {
   "cell_type": "code",
   "execution_count": 79,
   "metadata": {},
   "outputs": [],
   "source": [
    "D.append(22)\n"
   ]
  },
  {
   "cell_type": "code",
   "execution_count": 80,
   "metadata": {},
   "outputs": [
    {
     "data": {
      "text/plain": [
       "deque([13, 14, 15, 16, 17, 18, 19, 20, 21, 22])"
      ]
     },
     "execution_count": 80,
     "metadata": {},
     "output_type": "execute_result"
    }
   ],
   "source": [
    "D"
   ]
  },
  {
   "cell_type": "code",
   "execution_count": 111,
   "metadata": {},
   "outputs": [],
   "source": [
    "import random\n",
    "state_samples = np.random.normal(size=(32, 80, 80, 4))\n",
    "next_state_samples = np.random.normal(size=(32, 80, 80, 4))\n",
    "terminate_samples = np.random.choice([True, False], size=32)\n",
    "action_samples = random.choices([np.array([1, 0]), np.array([0, 1])], k=32)\n",
    "reward_samples = np.random.normal(size=32)\n",
    "q_target = model.net(state_samples).numpy()\n",
    "q_next = model.target_net(next_state_samples)\n",
    "best_q_next = np.amax(q_next, axis=1)\n",
    "for i in range(32):\n",
    "    if terminate_samples[i]:\n",
    "        q_target[i][np.argmax(action_samples[i])] = reward_samples[i]\n",
    "    else:\n",
    "        q_target[i][np.argmax(action_samples[i])] = reward_samples[i] + \\\n",
    "            0.99 * best_q_next[i]\n"
   ]
  },
  {
   "cell_type": "code",
   "execution_count": 115,
   "metadata": {},
   "outputs": [
    {
     "data": {
      "text/plain": [
       "array([[-0.1088215 , -0.18107672],\n",
       "       [-0.20373952, -0.23932509],\n",
       "       [-0.09412878,  0.08383213],\n",
       "       [-0.1655603 ,  0.00148106],\n",
       "       [-0.22586009, -0.14517355],\n",
       "       [-0.25561622,  0.1106342 ],\n",
       "       [-0.09309048, -0.05221125],\n",
       "       [-0.04660101, -0.30940244],\n",
       "       [ 0.00956449, -0.15089881],\n",
       "       [-0.07583976, -0.12498897],\n",
       "       [-0.04903087, -0.1042817 ],\n",
       "       [-0.11799715,  0.0734737 ],\n",
       "       [-0.028555  , -0.05537489],\n",
       "       [ 0.0299738 , -0.0333958 ],\n",
       "       [-0.14466742, -0.15505812],\n",
       "       [ 0.03845222,  0.04587642],\n",
       "       [ 0.12974994, -0.07707621],\n",
       "       [-0.03463696, -0.0891631 ],\n",
       "       [ 0.11360303, -0.09744302],\n",
       "       [-0.05348741, -0.1091511 ],\n",
       "       [-0.02692798, -0.1875858 ],\n",
       "       [-0.23575926, -0.28892064],\n",
       "       [-0.25076753, -0.13161373],\n",
       "       [-0.02588608, -0.21660034],\n",
       "       [ 0.00436256, -0.08090474],\n",
       "       [-0.2747726 , -0.14395438],\n",
       "       [-0.13032614,  0.05268465],\n",
       "       [-0.11031736, -0.1338849 ],\n",
       "       [-0.2083251 , -0.20630041],\n",
       "       [-0.21461757, -0.04906699],\n",
       "       [-0.01351144, -0.08977601],\n",
       "       [-0.14318526,  0.00060357]], dtype=float32)"
      ]
     },
     "execution_count": 115,
     "metadata": {},
     "output_type": "execute_result"
    }
   ],
   "source": [
    "y_pred = model.net(state_samples).numpy()\n",
    "y_pred"
   ]
  },
  {
   "cell_type": "code",
   "execution_count": 116,
   "metadata": {},
   "outputs": [
    {
     "data": {
      "text/plain": [
       "array([[-1.08821496e-01, -7.84860075e-01],\n",
       "       [ 1.20184338e+00, -2.39325091e-01],\n",
       "       [-9.41287801e-02, -1.96499377e-01],\n",
       "       [-1.65560305e-01,  7.09628820e-01],\n",
       "       [-1.45232069e+00, -1.45173550e-01],\n",
       "       [ 1.34915495e+00,  1.10634200e-01],\n",
       "       [-9.30904821e-02,  1.55284119e+00],\n",
       "       [-4.66010123e-02, -4.76558208e-01],\n",
       "       [ 9.56449285e-03, -8.12821567e-01],\n",
       "       [-4.96379882e-01, -1.24988973e-01],\n",
       "       [-4.90308665e-02,  9.52343166e-01],\n",
       "       [ 1.81898940e+00,  7.34736994e-02],\n",
       "       [-2.85550021e-02,  5.45779884e-01],\n",
       "       [ 2.99738050e-02, -2.57204890e-01],\n",
       "       [ 8.70795488e-01, -1.55058116e-01],\n",
       "       [-4.70444143e-01,  4.58764173e-02],\n",
       "       [-6.61427557e-01, -7.70762116e-02],\n",
       "       [ 8.52594793e-01, -8.91631022e-02],\n",
       "       [ 1.13603026e-01, -4.42830503e-01],\n",
       "       [ 9.71015096e-01, -1.09151103e-01],\n",
       "       [-7.66771317e-01, -1.87585801e-01],\n",
       "       [ 3.52894038e-01, -2.88920641e-01],\n",
       "       [-2.50767529e-01,  1.11419952e+00],\n",
       "       [ 3.02798133e-02, -2.16600344e-01],\n",
       "       [-9.17450845e-01, -8.09047446e-02],\n",
       "       [-2.74772614e-01,  4.87980604e-01],\n",
       "       [-1.30326137e-01, -1.38858354e+00],\n",
       "       [-1.10317364e-01, -1.57452273e+00],\n",
       "       [-3.01922083e-01, -2.06300408e-01],\n",
       "       [-2.14617565e-01,  5.35021782e-01],\n",
       "       [-1.19627964e+00, -8.97760093e-02],\n",
       "       [-1.14474249e+00,  6.03567809e-04]], dtype=float32)"
      ]
     },
     "execution_count": 116,
     "metadata": {},
     "output_type": "execute_result"
    }
   ],
   "source": [
    "q_target"
   ]
  },
  {
   "cell_type": "code",
   "execution_count": 117,
   "metadata": {},
   "outputs": [
    {
     "data": {
      "text/plain": [
       "array([[ 0.        ,  0.60378337],\n",
       "       [-1.4055829 ,  0.        ],\n",
       "       [ 0.        ,  0.2803315 ],\n",
       "       [ 0.        , -0.70814776],\n",
       "       [ 1.2264606 ,  0.        ],\n",
       "       [-1.6047711 ,  0.        ],\n",
       "       [ 0.        , -1.6050525 ],\n",
       "       [ 0.        ,  0.16715577],\n",
       "       [ 0.        ,  0.66192275],\n",
       "       [ 0.42054012,  0.        ],\n",
       "       [ 0.        , -1.0566249 ],\n",
       "       [-1.9369866 ,  0.        ],\n",
       "       [ 0.        , -0.6011548 ],\n",
       "       [ 0.        ,  0.2238091 ],\n",
       "       [-1.0154629 ,  0.        ],\n",
       "       [ 0.50889635,  0.        ],\n",
       "       [ 0.7911775 ,  0.        ],\n",
       "       [-0.88723177,  0.        ],\n",
       "       [ 0.        ,  0.3453875 ],\n",
       "       [-1.0245025 ,  0.        ],\n",
       "       [ 0.73984337,  0.        ],\n",
       "       [-0.5886533 ,  0.        ],\n",
       "       [ 0.        , -1.2458133 ],\n",
       "       [-0.0561659 ,  0.        ],\n",
       "       [ 0.9218134 ,  0.        ],\n",
       "       [ 0.        , -0.631935  ],\n",
       "       [ 0.        ,  1.4412682 ],\n",
       "       [ 0.        ,  1.4406378 ],\n",
       "       [ 0.09359698,  0.        ],\n",
       "       [ 0.        , -0.58408874],\n",
       "       [ 1.1827682 ,  0.        ],\n",
       "       [ 1.0015572 ,  0.        ]], dtype=float32)"
      ]
     },
     "execution_count": 117,
     "metadata": {},
     "output_type": "execute_result"
    }
   ],
   "source": [
    "y_pred - q_target"
   ]
  },
  {
   "cell_type": "code",
   "execution_count": 118,
   "metadata": {},
   "outputs": [
    {
     "data": {
      "text/plain": [
       "0.46834016"
      ]
     },
     "execution_count": 118,
     "metadata": {},
     "output_type": "execute_result"
    }
   ],
   "source": [
    "mse = tf.keras.losses.MeanSquaredError()\n",
    "mse(q_target, y_pred).numpy()"
   ]
  },
  {
   "cell_type": "code",
   "execution_count": 123,
   "metadata": {},
   "outputs": [
    {
     "data": {
      "text/plain": [
       "14.986885"
      ]
     },
     "execution_count": 123,
     "metadata": {},
     "output_type": "execute_result"
    }
   ],
   "source": [
    "mse_2 = tf.keras.losses.MeanSquaredError(reduction=tf.keras.losses.Reduction.SUM)\n",
    "mse_2(q_target, y_pred).numpy()"
   ]
  },
  {
   "cell_type": "code",
   "execution_count": 161,
   "metadata": {},
   "outputs": [],
   "source": [
    "model_2 = DQN()\n",
    "model_2.net(state_samples)\n",
    "model_2.target_net(state_samples)\n",
    "\n",
    "model_2.update_target_net()"
   ]
  },
  {
   "cell_type": "code",
   "execution_count": 166,
   "metadata": {},
   "outputs": [],
   "source": [
    "tf.reduce_all(tf.math.equal(model_2.net(state_samples), model_2.target_net(state_samples)))\n",
    "\n",
    "tf.random.set_seed(42)\n",
    "loss = model_2.net.train_on_batch(state_samples, q_target)\n",
    "target_loss = model_2.target_net.train_on_batch(state_samples, q_target)"
   ]
  },
  {
   "cell_type": "code",
   "execution_count": 168,
   "metadata": {},
   "outputs": [
    {
     "data": {
      "text/plain": [
       "2.1912753582000732"
      ]
     },
     "execution_count": 168,
     "metadata": {},
     "output_type": "execute_result"
    }
   ],
   "source": [
    "loss"
   ]
  },
  {
   "cell_type": "code",
   "execution_count": 169,
   "metadata": {},
   "outputs": [
    {
     "data": {
      "text/plain": [
       "2.1912753582000732"
      ]
     },
     "execution_count": 169,
     "metadata": {},
     "output_type": "execute_result"
    }
   ],
   "source": [
    "target_loss"
   ]
  },
  {
   "cell_type": "code",
   "execution_count": 170,
   "metadata": {},
   "outputs": [
    {
     "data": {
      "text/plain": [
       "<tf.Tensor: shape=(32, 2), dtype=bool, numpy=\n",
       "array([[ True,  True],\n",
       "       [ True,  True],\n",
       "       [ True,  True],\n",
       "       [ True,  True],\n",
       "       [ True,  True],\n",
       "       [ True,  True],\n",
       "       [ True,  True],\n",
       "       [ True,  True],\n",
       "       [ True,  True],\n",
       "       [ True,  True],\n",
       "       [ True,  True],\n",
       "       [ True,  True],\n",
       "       [ True,  True],\n",
       "       [ True,  True],\n",
       "       [ True,  True],\n",
       "       [ True,  True],\n",
       "       [ True,  True],\n",
       "       [ True,  True],\n",
       "       [ True,  True],\n",
       "       [ True,  True],\n",
       "       [ True,  True],\n",
       "       [ True,  True],\n",
       "       [ True,  True],\n",
       "       [ True,  True],\n",
       "       [ True,  True],\n",
       "       [ True,  True],\n",
       "       [ True,  True],\n",
       "       [ True,  True],\n",
       "       [ True,  True],\n",
       "       [ True,  True],\n",
       "       [ True,  True],\n",
       "       [ True,  True]])>"
      ]
     },
     "execution_count": 170,
     "metadata": {},
     "output_type": "execute_result"
    }
   ],
   "source": [
    "tf.math.equal(model_2.net(state_samples), model_2.target_net(state_samples))"
   ]
  },
  {
   "cell_type": "code",
   "execution_count": 173,
   "metadata": {},
   "outputs": [
    {
     "name": "stdout",
     "output_type": "stream",
     "text": [
      "sss\n"
     ]
    }
   ],
   "source": [
    "tfvar = tf.Variable(0.1)\n",
    "init_e = 0.6\n",
    "\n",
    "if tfvar < 0.6:\n",
    "    print('sss')"
   ]
  },
  {
   "cell_type": "code",
   "execution_count": 180,
   "metadata": {},
   "outputs": [
    {
     "name": "stdout",
     "output_type": "stream",
     "text": [
      "1000000\n"
     ]
    }
   ],
   "source": [
    "t = tf.Variable(0)\n",
    "ckpt = tf.train.Checkpoint(\n",
    "    t=t, \n",
    "    model=model\n",
    ")\n",
    "t.assign_add(1000000)\n",
    "print(ckpt.t.numpy())"
   ]
  },
  {
   "cell_type": "code",
   "execution_count": 193,
   "metadata": {},
   "outputs": [],
   "source": [
    "state = np.random.normal(size=(3, 4))\n",
    "next_img = np.random.normal(size=3)\n",
    "next_img = np.expand_dims(next_img, axis=-1)\n",
    "next_state = np.append(next_img, state[:, :3], axis=1)"
   ]
  },
  {
   "cell_type": "code",
   "execution_count": 194,
   "metadata": {},
   "outputs": [
    {
     "data": {
      "text/plain": [
       "array([[ 0.8107364 ,  1.2389503 , -0.53519395,  0.84183891],\n",
       "       [-0.00627737, -1.55269877,  0.12937113,  0.71980087],\n",
       "       [ 0.80914968, -0.35635918,  0.20724393, -1.70961252]])"
      ]
     },
     "execution_count": 194,
     "metadata": {},
     "output_type": "execute_result"
    }
   ],
   "source": [
    "state"
   ]
  },
  {
   "cell_type": "code",
   "execution_count": 195,
   "metadata": {},
   "outputs": [
    {
     "data": {
      "text/plain": [
       "array([[-0.83243669,  0.8107364 ,  1.2389503 , -0.53519395],\n",
       "       [ 0.66368603, -0.00627737, -1.55269877,  0.12937113],\n",
       "       [-0.48064242,  0.80914968, -0.35635918,  0.20724393]])"
      ]
     },
     "execution_count": 195,
     "metadata": {},
     "output_type": "execute_result"
    }
   ],
   "source": [
    "next_state"
   ]
  },
  {
   "cell_type": "code",
   "execution_count": null,
   "metadata": {},
   "outputs": [],
   "source": []
  }
 ],
 "metadata": {
  "interpreter": {
   "hash": "c6fc61766e26b208612fd44a5302a6725dc31a941942434f5e0e4a2950e75180"
  },
  "kernelspec": {
   "display_name": "Python 3.9.12 ('bird')",
   "language": "python",
   "name": "python3"
  },
  "language_info": {
   "codemirror_mode": {
    "name": "ipython",
    "version": 3
   },
   "file_extension": ".py",
   "mimetype": "text/x-python",
   "name": "python",
   "nbconvert_exporter": "python",
   "pygments_lexer": "ipython3",
   "version": "3.9.12"
  },
  "orig_nbformat": 4
 },
 "nbformat": 4,
 "nbformat_minor": 2
}
